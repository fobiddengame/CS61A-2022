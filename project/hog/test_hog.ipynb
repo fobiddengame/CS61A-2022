{
 "cells": [
  {
   "cell_type": "code",
   "execution_count": 60,
   "metadata": {
    "collapsed": true,
    "pycharm": {
     "name": "#%%\n"
    }
   },
   "outputs": [],
   "source": [
    "from dice import six_sided, four_sided, make_test_dice\n",
    "from ucb import main, trace, interact\n",
    "\n",
    "GOAL_SCORE = 100  # The goal of Hog is to score 100 points.\n",
    "\n",
    "\n",
    "######################\n",
    "# Phase 1: Simulator #\n",
    "######################\n",
    "\n",
    "\n",
    "def roll_dice(num_rolls, dice=six_sided):\n",
    "    \"\"\"Simulate rolling the DICE exactly NUM_ROLLS > 0 times. Return the sum of\n",
    "    the outcomes unless any of the outcomes is 1. In that case, return 1.\n",
    "\n",
    "    num_rolls:  The number of dice rolls that will be made.\n",
    "    dice:       A function that simulates a single dice roll outcome.\n",
    "    \"\"\"\n",
    "    # These assert statements ensure that num_rolls is a positive integer.\n",
    "    assert type(num_rolls) == int, 'num_rolls must be an integer.'\n",
    "    assert num_rolls > 0, 'Must roll at least once.'\n",
    "    # BEGIN PROBLEM 1\n",
    "    \"*** YOUR CODE HERE ***\"\n",
    "    is_1 = False\n",
    "    i, sum = 0, 0\n",
    "    while i < num_rolls:\n",
    "        x = dice()\n",
    "        sum += x\n",
    "        i += 1\n",
    "        if x == 1:\n",
    "            is_1 = True\n",
    "    return sum if is_1 is False else 1\n",
    "    # END PROBLEM 1\n",
    "\n",
    "\n",
    "def digit_fn(digit):\n",
    "    \"\"\"Return the corresponding function for the given DIGIT.\n",
    "\n",
    "    value:  The value which this function starts at.\n",
    "    \"\"\"\n",
    "    # Error if DIGIT is not one of: 0, 1, 2, 3, 4, 5, 6, 7, 8, 9\n",
    "    assert isinstance(digit, int) and 0 <= digit < 10\n",
    "    # List of pre-defined functions\n",
    "    f0 = lambda value: value + 1\n",
    "    f1 = lambda value: value ** 2\n",
    "    f2 = lambda value: value * 3\n",
    "    f3 = lambda value: value // 4\n",
    "    f4 = lambda value: value - 5\n",
    "    f5 = lambda value: value % 6\n",
    "    f6 = lambda value: int((value % 7) * 8)\n",
    "    f7 = lambda value: int(value * 8.8)\n",
    "    f8 = lambda value: int(value / 99 * 15) + 10\n",
    "    f9 = lambda value: value\n",
    "    # Mapping from digit to function\n",
    "    if digit == 0:\n",
    "        return f0\n",
    "    elif digit == 1:\n",
    "        return f1\n",
    "    elif digit == 2:\n",
    "        return f2\n",
    "    elif digit == 3:\n",
    "        return f3\n",
    "    elif digit == 4:\n",
    "        return f4\n",
    "    elif digit == 5:\n",
    "        return f5\n",
    "    elif digit == 6:\n",
    "        return f6\n",
    "    elif digit == 7:\n",
    "        return f7\n",
    "    elif digit == 8:\n",
    "        return f8\n",
    "    elif digit == 9:\n",
    "        return f9\n",
    "\n",
    "\n",
    "def hefty_hogs(player_score, opponent_score):\n",
    "    \"\"\"Return the points scored by player due to Hefty Hogs.\n",
    "\n",
    "    player_score:   The total score of the current player.\n",
    "    opponent_score: The total score of the other player.\n",
    "    \"\"\"\n",
    "    # BEGIN PROBLEM 2\n",
    "    if opponent_score:\n",
    "        while opponent_score:\n",
    "            fn = opponent_score % 10\n",
    "            player_score = digit_fn(fn)(player_score)\n",
    "            opponent_score = opponent_score // 10\n",
    "        return player_score % 30\n",
    "    else:\n",
    "        return 1\n",
    "    # END PROBLEM 2\n",
    "\n",
    "\n",
    "def take_turn(num_rolls, player_score, opponent_score, dice=six_sided, goal=GOAL_SCORE):\n",
    "    \"\"\"Simulate a turn rolling NUM_ROLLS dice,\n",
    "    which may be 0 in the case of a player using Hefty Hogs.\n",
    "    Return the points scored for the turn by the current player.\n",
    "\n",
    "    num_rolls:       The number of dice rolls that will be made.\n",
    "    player_score:    The total score of the current player.\n",
    "    opponent_score:  The total score of the opponent.\n",
    "    dice:            A function that simulates a single dice roll outcome.\n",
    "    goal:            The goal score of the game.\n",
    "    \"\"\"\n",
    "    # Leave these assert statements here; they help check for errors.\n",
    "    assert type(num_rolls) == int, 'num_rolls must be an integer.'\n",
    "    assert num_rolls >= 0, 'Cannot roll a negative number of dice in take_turn.'\n",
    "    assert num_rolls <= 10, 'Cannot roll more than 10 dice.'\n",
    "    assert max(player_score, opponent_score) < goal, 'The game should be over.'\n",
    "    # BEGIN PROBLEM 3\n",
    "    \"*** YOUR CODE HERE ***\"\n",
    "    return roll_dice(num_rolls, dice) if num_rolls != 0 else hefty_hogs(player_score, opponent_score)\n",
    "    # END PROBLEM 3\n",
    "\n",
    "\n",
    "def hog_pile(player_score, opponent_score):\n",
    "    \"\"\"Return the points scored by player due to Hog Pile.\n",
    "\n",
    "    player_score:   The total score of the current player.\n",
    "    opponent_score: The total score of the other player.\n",
    "    \"\"\"\n",
    "    # BEGIN PROBLEM 4\n",
    "    \"*** YOUR CODE HERE ***\"\n",
    "    player_one_digit, opponent_one_digit = player_score % 10, opponent_score % 10\n",
    "    return player_one_digit if player_one_digit == opponent_one_digit else 0\n",
    "    # END PROBLEM 4\n",
    "\n",
    "\n",
    "def next_player(who):\n",
    "    \"\"\"Return the other player, for a player WHO numbered 0 or 1.\n",
    "\n",
    "    >>> next_player(0)\n",
    "    1\n",
    "    >>> next_player(1)\n",
    "    0\n",
    "    \"\"\"\n",
    "    return 1 - who\n",
    "\n",
    "\n",
    "def silence(score0, score1, leader=None):\n",
    "    \"\"\"Announce nothing (see Phase 2).\"\"\"\n",
    "    return leader, None\n",
    "\n",
    "\n",
    "def play(strategy0, strategy1, score0=0, score1=0, dice=six_sided,\n",
    "         goal=GOAL_SCORE, say=silence):\n",
    "    \"\"\"Simulate a game and return the final scores of both players, with Player\n",
    "    0's score first, and Player 1's score second.\n",
    "\n",
    "    A strategy is a function that takes two total scores as arguments (the\n",
    "    current player's score, and the opponent's score), and returns a number of\n",
    "    dice that the current player will roll this turn.\n",
    "\n",
    "    strategy0:  The strategy function for Player 0, who plays first.\n",
    "    strategy1:  The strategy function for Player 1, who plays second.\n",
    "    score0:     Starting score for Player 0\n",
    "    score1:     Starting score for Player 1\n",
    "    dice:       A function of zero arguments that simulates a dice roll.\n",
    "    goal:       The game ends and someone wins when this score is reached.\n",
    "    say:        The commentary function to call every turn.\n",
    "    \"\"\"\n",
    "    who = 0  # Who is about to take a turn, 0 (first) or 1 (second)\n",
    "    leader = None  # To be used in problem 7\n",
    "    # BEGIN PROBLEM 5\n",
    "    \"*** YOUR CODE HERE ***\"\n",
    "    while score0 < goal and score1 < goal:\n",
    "        if who:\n",
    "             score1 += take_turn(strategy1(score1, score0), score1, score0, dice, goal)\n",
    "             score1 += hog_pile(score1, score0)\n",
    "             print(f's0 = {score0}, s1 = {score1}')\n",
    "        else:\n",
    "            score0 += take_turn(strategy0(score0, score1), score0, score1, dice, goal)\n",
    "            score0 += hog_pile(score0, score1)\n",
    "            print(f's0 = {score0}, s1 = {score1}')\n",
    "        who = next_player(who)\n",
    "    # END PROBLEM 5\n",
    "    # (note that the indentation for the problem 7 prompt (***YOUR CODE HERE***) might be misleading)\n",
    "    # BEGIN PROBLEM 7\n",
    "    \"*** YOUR CODE HERE ***\"\n",
    "    # END PROBLEM 7\n",
    "    return score0, score1"
   ]
  },
  {
   "cell_type": "code",
   "execution_count": 21,
   "outputs": [],
   "source": [
    "def always_roll(n):\n",
    "    \"\"\"Return a strategy that always rolls N dice.\n",
    "\n",
    "    A strategy is a function that takes two total scores as arguments (the\n",
    "    current player's score, and the opponent's score), and returns a number of\n",
    "    dice that the current player will roll this turn.\n",
    "\n",
    "    >>> strategy = always_roll(5)\n",
    "    >>> strategy(0, 0)\n",
    "    5\n",
    "    >>> strategy(99, 99)\n",
    "    5\n",
    "    \"\"\"\n",
    "\n",
    "    def strategy(score, opponent_score):\n",
    "        return n\n",
    "\n",
    "    return strategy"
   ],
   "metadata": {
    "collapsed": false,
    "pycharm": {
     "name": "#%%\n"
    }
   }
  },
  {
   "cell_type": "code",
   "execution_count": 62,
   "outputs": [
    {
     "name": "stdout",
     "output_type": "stream",
     "text": [
      "s0 = 2, s1 = 0\n",
      "s0 = 2, s1 = 4\n",
      "s0 = 8, s1 = 4\n",
      "s0 = 8, s1 = 6\n",
      "s0 = 10, s1 = 6\n",
      "s0 = 10, s1 = 8\n",
      "s0 = 12, s1 = 8\n",
      "s0 = 12, s1 = 10\n",
      "s0 = 14, s1 = 10\n",
      "s0 = 14, s1 = 12\n",
      "s0 = 16, s1 = 12\n",
      "s0 = 16, s1 = 14\n",
      "s0 = 18, s1 = 14\n",
      "s0 = 18, s1 = 16\n",
      "s0 = 20, s1 = 16\n",
      "s0 = 20, s1 = 18\n",
      "s0 = 22, s1 = 18\n",
      "s0 = 22, s1 = 20\n",
      "s0 = 24, s1 = 20\n",
      "s0 = 24, s1 = 22\n",
      "s0 = 26, s1 = 22\n",
      "s0 = 26, s1 = 24\n",
      "s0 = 28, s1 = 24\n",
      "s0 = 28, s1 = 26\n",
      "s0 = 30, s1 = 26\n",
      "s0 = 30, s1 = 28\n",
      "s0 = 32, s1 = 28\n",
      "s0 = 32, s1 = 30\n",
      "s0 = 34, s1 = 30\n",
      "s0 = 34, s1 = 32\n",
      "s0 = 36, s1 = 32\n",
      "s0 = 36, s1 = 34\n",
      "s0 = 38, s1 = 34\n",
      "s0 = 38, s1 = 36\n",
      "s0 = 40, s1 = 36\n",
      "s0 = 40, s1 = 38\n",
      "s0 = 42, s1 = 38\n",
      "s0 = 42, s1 = 40\n",
      "s0 = 44, s1 = 40\n",
      "s0 = 44, s1 = 42\n",
      "s0 = 46, s1 = 42\n",
      "s0 = 46, s1 = 44\n",
      "s0 = 48, s1 = 44\n",
      "s0 = 48, s1 = 46\n",
      "s0 = 50, s1 = 46\n"
     ]
    },
    {
     "data": {
      "text/plain": "(50, 46)"
     },
     "execution_count": 62,
     "metadata": {},
     "output_type": "execute_result"
    }
   ],
   "source": [
    "always = always_roll(1)\n",
    "always_three = make_test_dice(2)\n",
    "play(always, always, score0=0, score1=0, dice=always_three, goal=50)"
   ],
   "metadata": {
    "collapsed": false,
    "pycharm": {
     "name": "#%%\n"
    }
   }
  },
  {
   "cell_type": "code",
   "execution_count": 59,
   "outputs": [
    {
     "data": {
      "text/plain": "24"
     },
     "execution_count": 59,
     "metadata": {},
     "output_type": "execute_result"
    }
   ],
   "source": [
    "hefty_hogs(4, 12)"
   ],
   "metadata": {
    "collapsed": false,
    "pycharm": {
     "name": "#%%\n"
    }
   }
  },
  {
   "cell_type": "code",
   "execution_count": 64,
   "outputs": [
    {
     "name": "stdout",
     "output_type": "stream",
     "text": [
      "i = 0, a = 0\n"
     ]
    }
   ],
   "source": [
    "i = 1\n",
    "a = 1\n",
    "\n",
    "i, a = 0, 0\n",
    "print(f'i = {i}, a = {a}')"
   ],
   "metadata": {
    "collapsed": false,
    "pycharm": {
     "name": "#%%\n"
    }
   }
  },
  {
   "cell_type": "code",
   "execution_count": 82,
   "outputs": [],
   "source": [
    "def hefty_hogs_strategy(score, opponent_score, threshold=8, num_rolls=6):\n",
    "    \"\"\"This strategy returns 0 dice if that gives at least THRESHOLD points, and\n",
    "    returns NUM_ROLLS otherwise.\n",
    "    \"\"\"\n",
    "    # BEGIN PROBLEM 10\n",
    "    if hefty_hogs(score, opponent_score) < threshold:\n",
    "        return num_rolls\n",
    "    else:\n",
    "        return 0"
   ],
   "metadata": {
    "collapsed": false,
    "pycharm": {
     "name": "#%%\n"
    }
   }
  },
  {
   "cell_type": "code",
   "execution_count": 90,
   "outputs": [
    {
     "data": {
      "text/plain": "3"
     },
     "execution_count": 90,
     "metadata": {},
     "output_type": "execute_result"
    }
   ],
   "source": [
    "hefty_hogs_strategy(64, 35, 12, 3)"
   ],
   "metadata": {
    "collapsed": false,
    "pycharm": {
     "name": "#%%\n"
    }
   }
  },
  {
   "cell_type": "code",
   "execution_count": 80,
   "outputs": [
    {
     "data": {
      "text/plain": "15"
     },
     "execution_count": 80,
     "metadata": {},
     "output_type": "execute_result"
    }
   ],
   "source": [
    "hefty_hogs(20, 32)"
   ],
   "metadata": {
    "collapsed": false,
    "pycharm": {
     "name": "#%%\n"
    }
   }
  },
  {
   "cell_type": "code",
   "execution_count": 91,
   "outputs": [],
   "source": [
    "def hog_pile_strategy(score, opponent_score, threshold=8, num_rolls=6):\n",
    "    \"\"\"This strategy returns 0 dice when this would result in Hog Pile taking\n",
    "    effect. It also returns 0 dice if it gives at least THRESHOLD points.\n",
    "    Otherwise, it returns NUM_ROLLS.\n",
    "    \"\"\"\n",
    "    # BEGIN PROBLEM 11\n",
    "    if hefty_hogs_strategy(score, opponent_score, threshold, num_rolls) == 0 or hog_pile(score + hefty_hogs(score, opponent_score), opponent_score):\n",
    "        return 0\n",
    "    else:\n",
    "        return num_rolls"
   ],
   "metadata": {
    "collapsed": false,
    "pycharm": {
     "name": "#%%\n"
    }
   }
  },
  {
   "cell_type": "code",
   "execution_count": 92,
   "outputs": [
    {
     "data": {
      "text/plain": "0"
     },
     "execution_count": 92,
     "metadata": {},
     "output_type": "execute_result"
    }
   ],
   "source": [
    "hog_pile_strategy(64, 35, 12, 3)"
   ],
   "metadata": {
    "collapsed": false,
    "pycharm": {
     "name": "#%%\n"
    }
   }
  },
  {
   "cell_type": "code",
   "execution_count": 93,
   "outputs": [
    {
     "data": {
      "text/plain": "3"
     },
     "execution_count": 93,
     "metadata": {},
     "output_type": "execute_result"
    }
   ],
   "source": [
    "from operator import add\n",
    "\n",
    "add(1, 2)"
   ],
   "metadata": {
    "collapsed": false,
    "pycharm": {
     "name": "#%%\n"
    }
   }
  }
 ],
 "metadata": {
  "kernelspec": {
   "display_name": "Python 3",
   "language": "python",
   "name": "python3"
  },
  "language_info": {
   "codemirror_mode": {
    "name": "ipython",
    "version": 2
   },
   "file_extension": ".py",
   "mimetype": "text/x-python",
   "name": "python",
   "nbconvert_exporter": "python",
   "pygments_lexer": "ipython2",
   "version": "2.7.6"
  }
 },
 "nbformat": 4,
 "nbformat_minor": 0
}